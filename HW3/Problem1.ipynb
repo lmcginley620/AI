{
  "nbformat": 4,
  "nbformat_minor": 0,
  "metadata": {
    "colab": {
      "provenance": [],
      "authorship_tag": "ABX9TyMcMGo9JrABSsKSuUUhbW3R",
      "include_colab_link": true
    },
    "kernelspec": {
      "name": "python3",
      "display_name": "Python 3"
    },
    "language_info": {
      "name": "python"
    }
  },
  "cells": [
    {
      "cell_type": "markdown",
      "metadata": {
        "id": "view-in-github",
        "colab_type": "text"
      },
      "source": [
        "<a href=\"https://colab.research.google.com/github/lmcginley620/AI/blob/main/HW3/Problem1.ipynb\" target=\"_parent\"><img src=\"https://colab.research.google.com/assets/colab-badge.svg\" alt=\"Open In Colab\"/></a>"
      ]
    },
    {
      "cell_type": "markdown",
      "source": [
        "Luke McGinley - Implement a BFS algorithm that returns the kth level friend for a given user and graph."
      ],
      "metadata": {
        "id": "21ypL0-ceHqe"
      }
    },
    {
      "cell_type": "code",
      "execution_count": null,
      "metadata": {
        "colab": {
          "base_uri": "https://localhost:8080/"
        },
        "id": "i8ndoNX7JQgf",
        "outputId": "4a5ba806-69e4-4b17-e736-8acdbf8d3bf6"
      },
      "outputs": [
        {
          "output_type": "stream",
          "name": "stdout",
          "text": [
            "Anna Amy "
          ]
        }
      ],
      "source": [
        "from collections import deque\n",
        "\n",
        "def BFS(graph, root, k):\n",
        "    visited = set()\n",
        "    queue = deque([(root, 0)])  # Queue stores user and its level\n",
        "\n",
        "    while queue:\n",
        "        current_user, level = queue.popleft()\n",
        "        visited.add(current_user)\n",
        "\n",
        "        # If the current level is k, print the user\n",
        "        if level == k:\n",
        "            print(current_user, end=\" \")\n",
        "\n",
        "        # Explore friends of the current user only if the current level is less than k\n",
        "        if level < k:\n",
        "            for friend in graph.get(current_user, []):\n",
        "                if friend not in visited:\n",
        "                    queue.append((friend, level + 1))\n",
        "\n",
        "def FindFriends(graph, user, k):\n",
        "    if user not in graph:\n",
        "        print(\"User not found in the network.\")\n",
        "        return\n",
        "\n",
        "    BFS(graph, user, k)\n",
        "\n",
        "\n",
        "graph = {\n",
        "    'Bob': ['Richard', 'Rob', 'Pam'],\n",
        "    'Amy': [],\n",
        "    'Anna': [],\n",
        "    'Peter': ['Amy'],\n",
        "    'Pam': ['Roger', 'Peter'],\n",
        "    'Roger': ['Anna'],\n",
        "}\n",
        "\n",
        "\n",
        "FindFriends(graph, 'Bob', 3)\n"
      ]
    }
  ]
}