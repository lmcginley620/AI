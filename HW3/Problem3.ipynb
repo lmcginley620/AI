{
  "nbformat": 4,
  "nbformat_minor": 0,
  "metadata": {
    "colab": {
      "provenance": [],
      "toc_visible": true,
      "authorship_tag": "ABX9TyNBwSHijq6oYntcXP60d6fK",
      "include_colab_link": true
    },
    "kernelspec": {
      "name": "python3",
      "display_name": "Python 3"
    },
    "language_info": {
      "name": "python"
    }
  },
  "cells": [
    {
      "cell_type": "markdown",
      "metadata": {
        "id": "view-in-github",
        "colab_type": "text"
      },
      "source": [
        "<a href=\"https://colab.research.google.com/github/lmcginley620/AI/blob/main/HW3/Problem3.ipynb\" target=\"_parent\"><img src=\"https://colab.research.google.com/assets/colab-badge.svg\" alt=\"Open In Colab\"/></a>"
      ]
    },
    {
      "cell_type": "markdown",
      "source": [
        "Luke McGinley - Assignment is to implemenet a DFS Algorithm that detects if a goal is reachable or not in a Maze."
      ],
      "metadata": {
        "id": "_I5rkKrlRbsU"
      }
    },
    {
      "cell_type": "code",
      "execution_count": null,
      "metadata": {
        "colab": {
          "base_uri": "https://localhost:8080/",
          "height": 694
        },
        "id": "nxJu-Me89C9N",
        "outputId": "053eb1bb-80c5-459f-9682-3569935a9441"
      },
      "outputs": [
        {
          "output_type": "stream",
          "name": "stdout",
          "text": [
            "Graph 1:\n",
            "0\n",
            "1\n",
            "2\n",
            "12\n",
            "11\n",
            "10\n",
            "20\n",
            "21\n",
            "31\n",
            "30\n",
            "40\n",
            "41\n",
            "42\n",
            "43\n",
            "33\n",
            "34\n",
            "24\n",
            "14\n",
            "13\n",
            "3\n",
            "4\n",
            "5\n",
            "15\n",
            "16\n",
            "6\n",
            "7\n",
            "8\n",
            "9\n",
            "19\n",
            "18\n",
            "28\n",
            "38\n",
            "37\n",
            "47\n",
            "46\n",
            "48\n",
            "49\n"
          ]
        },
        {
          "output_type": "execute_result",
          "data": {
            "text/plain": [
              "'SUCCESS'"
            ],
            "application/vnd.google.colaboratory.intrinsic+json": {
              "type": "string"
            }
          },
          "metadata": {},
          "execution_count": 45
        }
      ],
      "source": [
        "# See https://realpython.com/python-deque/\n",
        "\n",
        "from collections import deque\n",
        "\n",
        "\n",
        "\n",
        "def DFS(graph, root, visited):\n",
        "    goal = '49'\n",
        "    if root not in visited:\n",
        "        print(root)\n",
        "        visited.add(root)\n",
        "        if root == goal:  # Check if the current node is the goal\n",
        "            return \"SUCCESS\"  # If yes, return\n",
        "        for neighbor in graph[root]:\n",
        "            result = DFS(graph, neighbor, visited)  # Recursively explore neighbors\n",
        "            if result == \"SUCCESS\":\n",
        "                return result  # If goal is reached, return\n",
        "    return \"FAILURE\"\n",
        "\n",
        "graph1 = {\n",
        "    '0' : ['1', '10'],\n",
        "    '1' : ['0', '2'],\n",
        "    '2' : ['1', '12'],\n",
        "    '3' : ['4', '13'],\n",
        "    '4' : ['3', '5'],\n",
        "    '5' : ['4', '15'],\n",
        "    '6' : ['7', '16'],\n",
        "    '7' : ['6', '8'],\n",
        "    '8' : ['7', '9'],\n",
        "    '9' : ['8', '19'],\n",
        "    '10': ['0', '20'],\n",
        "    '11': ['12'],\n",
        "    '12': ['2', '11'],\n",
        "    '13': ['3', '14'],\n",
        "    '14': ['13', '24'],\n",
        "    '15': ['5', '16'],\n",
        "    '16': ['6', '15', '26'],\n",
        "    '17': ['27'],\n",
        "    '18': ['19', '28'],\n",
        "    '19': ['9', '18'],\n",
        "    '20': ['10', '21'],\n",
        "    '21': ['20','31'],\n",
        "    '22': ['23',],\n",
        "    '23': ['22'],\n",
        "    '24': ['14', '25', '34'],\n",
        "    '25': ['24', '35'],\n",
        "    '26': ['16', '27'],\n",
        "    '27': ['17', '26'],\n",
        "    '28': ['18', '38'],\n",
        "    '29': ['39'],\n",
        "    '30': ['31', '40'],\n",
        "    '31': ['21','30', '32'],\n",
        "    '32': ['22', '31'],\n",
        "    '33': ['34', '43'],\n",
        "    '34': ['24', '33', '44'],\n",
        "    '35': ['25', '36'],\n",
        "    '36': ['35'],\n",
        "    '37': ['37', '47'],\n",
        "    '38': ['28', '37', '39'],\n",
        "    '39': ['29', '38'],\n",
        "    '40': ['30', '41'],\n",
        "    '41': ['40', '42'],\n",
        "    '42': ['41', '43'],\n",
        "    '43': ['33', '42'],\n",
        "    '44': ['34', '45'],\n",
        "    '45': ['44'],\n",
        "    '46': ['47'],\n",
        "    '47': ['37', '46', '48'],\n",
        "    '48': ['47', '49'],\n",
        "    '49': ['48']\n",
        "}\n",
        "\n",
        "graph2 = {\n",
        "    '0' : ['1', '10'],\n",
        "    '1' : ['0', '2'],\n",
        "    '2' : ['1', '12'],\n",
        "    '3' : ['4', '13'],\n",
        "    '4' : ['3', '5'],\n",
        "    '5' : ['4', '15'],\n",
        "    '6' : ['7', '16'],\n",
        "    '7' : ['6', '8'],\n",
        "    '8' : ['7', '9'],\n",
        "    '9' : ['8', '19'],\n",
        "    '10': ['0', '20'],\n",
        "    '11': ['12'],\n",
        "    '12': ['2', '11'],\n",
        "    '13': ['3', '14'],\n",
        "    '14': ['13', '24'],\n",
        "    '15': ['5', '16'],\n",
        "    '16': ['6', '15', '26'],\n",
        "    '17': ['27'],\n",
        "    '18': ['19', '28'],\n",
        "    '19': ['9', '18'],\n",
        "    '20': ['10', '21'],\n",
        "    '21': ['20'],   #CHANGE\n",
        "    '22': ['23',],\n",
        "    '23': ['22'],\n",
        "    '24': ['14', '25', '34'],\n",
        "    '25': ['24', '35'],\n",
        "    '26': ['16', '27'],\n",
        "    '27': ['17', '26'],\n",
        "    '28': ['18', '38'],\n",
        "    '29': ['39'],\n",
        "    '30': ['31', '40'],\n",
        "    '31': ['30', '32'], #CHANGE\n",
        "    '32': ['22', '31'],\n",
        "    '33': ['34', '43'],\n",
        "    '34': ['24', '33', '44'],\n",
        "    '35': ['25', '36'],\n",
        "    '36': ['35'],\n",
        "    '37': ['37', '47'],\n",
        "    '38': ['28', '37', '39'],\n",
        "    '39': ['29', '38'],\n",
        "    '40': ['30', '41'],\n",
        "    '41': ['40', '42'],\n",
        "    '42': ['41', '43'],\n",
        "    '43': ['33', '42'],\n",
        "    '44': ['34', '45'],\n",
        "    '45': ['44'],\n",
        "    '46': ['47'],\n",
        "    '47': ['37', '46', '48'],\n",
        "    '48': ['47', '49'],\n",
        "    '49': ['48']\n",
        "}\n",
        "visited = set()\n",
        "print(\"Graph 1:\")\n",
        "DFS(graph1, '0', visited)\n",
        "\n",
        "\n",
        "\n",
        "\n"
      ]
    },
    {
      "cell_type": "code",
      "source": [
        "print(\"Graph 2:\")\n",
        "DFS(graph2, '0', visited)"
      ],
      "metadata": {
        "colab": {
          "base_uri": "https://localhost:8080/",
          "height": 52
        },
        "id": "pW47gMJHOPGR",
        "outputId": "6e08c6b6-f0c3-4e87-9d6f-17dc8b7b4960"
      },
      "execution_count": null,
      "outputs": [
        {
          "output_type": "stream",
          "name": "stdout",
          "text": [
            "Graph 2:\n"
          ]
        },
        {
          "output_type": "execute_result",
          "data": {
            "text/plain": [
              "'FAILURE'"
            ],
            "application/vnd.google.colaboratory.intrinsic+json": {
              "type": "string"
            }
          },
          "metadata": {},
          "execution_count": 46
        }
      ]
    }
  ]
}