{
  "nbformat": 4,
  "nbformat_minor": 0,
  "metadata": {
    "colab": {
      "provenance": [],
      "authorship_tag": "ABX9TyNTSXRhdpP5Ge4GFHEwVl4i",
      "include_colab_link": true
    },
    "kernelspec": {
      "name": "python3",
      "display_name": "Python 3"
    },
    "language_info": {
      "name": "python"
    }
  },
  "cells": [
    {
      "cell_type": "markdown",
      "metadata": {
        "id": "view-in-github",
        "colab_type": "text"
      },
      "source": [
        "<a href=\"https://colab.research.google.com/github/lmcginley620/AI/blob/main/HW3/Problem2.ipynb\" target=\"_parent\"><img src=\"https://colab.research.google.com/assets/colab-badge.svg\" alt=\"Open In Colab\"/></a>"
      ]
    },
    {
      "cell_type": "markdown",
      "source": [
        "Luke McGinley - Implement a BFS algorithm that discovers potentially missing connections in a network."
      ],
      "metadata": {
        "id": "YM4Q6NFdeZyY"
      }
    },
    {
      "cell_type": "code",
      "execution_count": null,
      "metadata": {
        "colab": {
          "base_uri": "https://localhost:8080/"
        },
        "id": "T-lfU8mA81ld",
        "outputId": "e6fd7df6-b9a5-4160-e740-ca8ed480da4e"
      },
      "outputs": [
        {
          "output_type": "stream",
          "name": "stdout",
          "text": [
            "{'Adam', 'David'}\n"
          ]
        }
      ],
      "source": [
        "from collections import deque\n",
        "\n",
        "def BFS(graph, root):\n",
        "    visited, queue = set(), deque([root])\n",
        "    visited.add(root)\n",
        "\n",
        "    while queue:\n",
        "        vertex = queue.popleft()\n",
        "        for neighbor in graph[vertex]:\n",
        "            if neighbor not in visited:\n",
        "                visited.add(neighbor)\n",
        "                queue.append(neighbor)\n",
        "    return visited\n",
        "\n",
        "def PotentialFriends(graph, user):\n",
        "    potential_friends = set()\n",
        "    visited = set()  # Initialize visited set\n",
        "    queue = deque([user])\n",
        "    visited.add(user)  # Mark user as visited to avoid revisiting\n",
        "\n",
        "    # Traverse neighbors of the user\n",
        "    for friend in graph.get(user, []):\n",
        "        # Check each common friend of the neighbor\n",
        "        for common_friend in graph.get(friend, []):\n",
        "            # Add the common friend to potential_friends if not visited and not directly connected to the user\n",
        "            if common_friend != user and common_friend not in graph.get(user, []):\n",
        "                potential_friends.add(common_friend)\n",
        "                visited.add(common_friend)  #avoid duplicates\n",
        "                queue.append(common_friend)\n",
        "\n",
        "    return potential_friends\n",
        "\n",
        "graph = {\n",
        "    'Maria': ['Adam', 'Sophia', 'Maya', 'David'],\n",
        "    'Adam': ['Maria'],\n",
        "    'Sophia': ['Maria', 'Maya'],\n",
        "    'David': ['Maya', 'Maria'],\n",
        "    'Maya': ['Sophia', 'David', 'Maria']\n",
        "}\n",
        "\n",
        "print(PotentialFriends(graph, 'Sophia'))\n",
        "\n",
        "\n"
      ]
    }
  ]
}