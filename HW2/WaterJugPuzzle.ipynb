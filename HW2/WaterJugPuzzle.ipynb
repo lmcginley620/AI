{
  "nbformat": 4,
  "nbformat_minor": 0,
  "metadata": {
    "colab": {
      "provenance": []
    },
    "kernelspec": {
      "name": "python3",
      "display_name": "Python 3"
    },
    "language_info": {
      "name": "python"
    }
  },
  "cells": [
    {
      "cell_type": "code",
      "source": [
        "class WaterJugPuzzle():\n",
        "\n",
        "\n",
        "  def __init__(self, jug1_size=5, jug2_size=3):\n",
        "      self.jug1_size = jug1_size\n",
        "      self.jug2_size = jug2_size\n",
        "      self.state = (0,0)\n",
        "\n",
        "  def fill_jug1(self):\n",
        "      self.state = (self.jug1_size, self.state[1])\n",
        "\n",
        "  def fill_jug2(self):\n",
        "      self.state = (self.state[0], self.jug2_size)\n",
        "\n",
        "\n",
        "  def empty_jug1(self):\n",
        "      self.state = (0, self.state[1])\n",
        "\n",
        "  def empty_jug2(self):\n",
        "      self.state = (self.state[0], 0)\n",
        "\n",
        "\n",
        "  def pour_j1_to_j2(self):\n",
        "    if (self.state[0] == 0):\n",
        "        print(\"There is no water to pour\")\n",
        "    pour = min(self.state[0], self.jug2_size - self.state[1])\n",
        "    self.state = (self.state[0] - pour, self.state[1] + pour)\n",
        "\n",
        "\n",
        "\n",
        "  def pour_j2_to_j1(self):\n",
        "      pour = min(self.state[0], self.jug1_size - self.state[0])\n",
        "      self.state = (self.state[1]- pour, self.state[0] + pour)\n",
        "\n",
        "\n",
        "  def print_state(self):\n",
        "      print(\"Jug1: {j1}, Jug2: {j2}\".format(j1=self.state[0], j2=self.state[1]))\n",
        "\n",
        "def main():\n",
        "      water_jug = WaterJugPuzzle()\n",
        "      print(\"Initial State:\")\n",
        "      water_jug.print_state()\n",
        "\n",
        "      print(\"Fill Bucket1\")\n",
        "      water_jug.fill_jug1()\n",
        "      water_jug.print_state()\n",
        "\n",
        "      print(\"Pour Jug 1 into Jug 2\")\n",
        "      water_jug.pour_j1_to_j2()\n",
        "      water_jug.print_state()\n",
        "\n",
        "      print(\"Empty Jug 2\")\n",
        "      water_jug.empty_jug2()\n",
        "      water_jug.print_state()\n",
        "\n",
        "      print(\"Pour remaining water from Jug 1 to Jug 2\")\n",
        "      water_jug.pour_j1_to_j2()\n",
        "      water_jug.print_state()\n",
        "\n",
        "      print(\"Refill Jug 1\")\n",
        "      water_jug.fill_jug1()\n",
        "      water_jug.print_state()\n",
        "\n",
        "      print(\"Pour Jug 1 into Jug 2\")\n",
        "      water_jug.pour_j1_to_j2()\n",
        "      water_jug.print_state()\n",
        "\n",
        "\n",
        "\n",
        "\n",
        "if __name__ == \"__main__\":\n",
        "      main()"
      ],
      "metadata": {
        "colab": {
          "base_uri": "https://localhost:8080/"
        },
        "id": "PjVqdm0LoXAy",
        "outputId": "dc3030c6-7ce2-44c6-bb07-bbab81e783a1"
      },
      "execution_count": 71,
      "outputs": [
        {
          "output_type": "stream",
          "name": "stdout",
          "text": [
            "Initial State:\n",
            "Jug1: 0, Jug2: 0\n",
            "Fill Bucket1\n",
            "Jug1: 5, Jug2: 0\n",
            "Pour Jug 1 into Jug 2\n",
            "Jug1: 2, Jug2: 3\n",
            "Empty Jug 2\n",
            "Jug1: 2, Jug2: 0\n",
            "Pour remaining water from Jug 1 to Jug 2\n",
            "Jug1: 0, Jug2: 2\n",
            "Refill Jug 1\n",
            "Jug1: 5, Jug2: 2\n",
            "Pour Jug 1 into Jug 2\n",
            "Jug1: 4, Jug2: 3\n"
          ]
        }
      ]
    },
    {
      "cell_type": "code",
      "source": [],
      "metadata": {
        "id": "KkIsr0em8Zak"
      },
      "execution_count": null,
      "outputs": []
    }
  ]
}