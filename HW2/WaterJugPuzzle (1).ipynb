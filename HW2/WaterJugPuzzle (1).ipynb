{
  "nbformat": 4,
  "nbformat_minor": 0,
  "metadata": {
    "colab": {
      "provenance": []
    },
    "kernelspec": {
      "name": "python3",
      "display_name": "Python 3"
    },
    "language_info": {
      "name": "python"
    }
  },
  "cells": [
    {
      "cell_type": "code",
      "source": [
        "class WaterJugPuzzle():\n",
        "\n",
        "  #Model the state space, Jug1: 0, Jug2: 0\n",
        "  def __init__(self, jug1_size=5, jug2_size=3):\n",
        "      self.jug1_size = jug1_size\n",
        "      self.jug2_size = jug2_size\n",
        "      self.state = (0,0)\n",
        "\n",
        "  #method to fill jug 1 with water\n",
        "  def fill_jug1(self):\n",
        "      if(self.state[0] == self.jug1_size): #guard against filling full jug 1\n",
        "        print(\"The jug is already full\")\n",
        "      self.state = (self.jug1_size, self.state[1])\n",
        "\n",
        "  #method to fill jug 2 with water\n",
        "  def fill_jug2(self):\n",
        "      if(self.state[1] == self.jug2_size): #guard against filling full jug 2\n",
        "        print(\"The jug is already full\")\n",
        "      self.state = (self.state[0], self.jug2_size)\n",
        "\n",
        "  #method to empty jug 1\n",
        "  def empty_jug1(self):\n",
        "      if (self.state[0] == 0): #guard against emptying an empty jug 1\n",
        "        print(\"The Jug is already empty.\")\n",
        "      self.state = (0, self.state[1])\n",
        "\n",
        "  #method to empty jug 2\n",
        "  def empty_jug2(self):\n",
        "      if (self.state[0] == 0): #guard against emptying an empty jug 2\n",
        "        print(\"The Jug is already empty.\")\n",
        "      self.state = (self.state[0], 0)\n",
        "\n",
        "  #method to pour jug 1 to jug 2\n",
        "  def pour_j1_to_j2(self):\n",
        "       if self.state[0] == 0: #guard against pouring empty jug 1 into jug 2\n",
        "        print(\"There is no water to pour\")\n",
        "        return\n",
        "\n",
        "       pour = min(self.state[0], self.jug2_size - self.state[1])\n",
        "       if (self.state[1] == self.jug2_size):\n",
        "        print(\"Jug 2 is already full\") #guard against filling jug 2 if already full\n",
        "        return\n",
        "\n",
        "       self.state = (self.state[0] - pour, self.state[1] + pour)\n",
        "\n",
        "\n",
        "  #method to pour jug 2 to jug 1\n",
        "  def pour_j2_to_j1(self):\n",
        "      if (self.state[1] == 0): #guard against pouring empty jug 2 into jug 1\n",
        "        print(\"There is no water to pour\")\n",
        "        return\n",
        "      if (self.state[0] == self.jug1_size): #guard against filling jug 1 if already full\n",
        "        print(\"Jug 1 is already full\")\n",
        "        return\n",
        "      pour = min(self.state[0], self.jug1_size - self.state[0])\n",
        "      self.state = (self.state[1] - pour, self.state[0] + pour)\n",
        "\n",
        "  #print the state of the two jugs\n",
        "  def print_state(self):\n",
        "      print(\"Jug1: {j1}, Jug2: {j2}\".format(j1=self.state[0], j2=self.state[1]))\n",
        "\n",
        "def main():\n",
        "      water_jug = WaterJugPuzzle()\n",
        "      print(\"Initial State:\")\n",
        "      water_jug.print_state()\n",
        "\n",
        "      print(\"Fill Bucket1\")\n",
        "      water_jug.fill_jug1()\n",
        "      water_jug.print_state()\n",
        "\n",
        "      print(\"Pour Jug 1 into Jug 2\")\n",
        "      water_jug.pour_j1_to_j2()\n",
        "      water_jug.print_state()\n",
        "\n",
        "      print(\"Empty Jug 2\")\n",
        "      water_jug.empty_jug2()\n",
        "      water_jug.print_state()\n",
        "\n",
        "      print(\"Pour remaining water from Jug 1 to Jug 2\")\n",
        "      water_jug.pour_j1_to_j2()\n",
        "      water_jug.print_state()\n",
        "\n",
        "      print(\"Refill Jug 1\")\n",
        "      water_jug.fill_jug1()\n",
        "      water_jug.print_state()\n",
        "\n",
        "      print(\"Pour Jug 1 into Jug 2\")\n",
        "      water_jug.pour_j1_to_j2()\n",
        "      water_jug.print_state()\n",
        "\n",
        "\n",
        "\n",
        "\n",
        "if __name__ == \"__main__\":\n",
        "      main()"
      ],
      "metadata": {
        "colab": {
          "base_uri": "https://localhost:8080/"
        },
        "id": "PjVqdm0LoXAy",
        "outputId": "8cb8c0fd-5b4d-4316-ff83-72d762631ba7"
      },
      "execution_count": 23,
      "outputs": [
        {
          "output_type": "stream",
          "name": "stdout",
          "text": [
            "Initial State:\n",
            "Jug1: 0, Jug2: 0\n",
            "Fill Bucket1\n",
            "Jug1: 5, Jug2: 0\n",
            "Pour Jug 1 into Jug 2\n",
            "Jug1: 2, Jug2: 3\n",
            "Empty Jug 2\n",
            "Jug1: 2, Jug2: 0\n",
            "Pour remaining water from Jug 1 to Jug 2\n",
            "Jug1: 0, Jug2: 2\n",
            "Refill Jug 1\n",
            "Jug1: 5, Jug2: 2\n",
            "Pour Jug 1 into Jug 2\n",
            "Jug1: 4, Jug2: 3\n"
          ]
        }
      ]
    },
    {
      "cell_type": "code",
      "source": [],
      "metadata": {
        "id": "KkIsr0em8Zak"
      },
      "execution_count": null,
      "outputs": []
    }
  ]
}